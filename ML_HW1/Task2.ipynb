{
  "nbformat": 4,
  "nbformat_minor": 0,
  "metadata": {
    "colab": {
      "name": "ML_HW1.ipynb",
      "version": "0.3.2",
      "provenance": [],
      "collapsed_sections": []
    },
    "kernelspec": {
      "display_name": "Python 3",
      "language": "python",
      "name": "python3"
    }
  },
  "cells": [
    {
      "metadata": {
        "id": "Cg1zWu9H22kb",
        "colab_type": "text"
      },
      "cell_type": "markdown",
      "source": [
        "### ML_HW1 (весна 2019)\n",
        "#### Задание выполнялось в группе из 3-х человек:\n",
        "- Давыдова Вера\n",
        "- Кравцова Анастасия\n",
        "- Решетникова Арина"
      ]
    },
    {
      "metadata": {
        "colab_type": "text",
        "id": "E7ME-ag0hoDA"
      },
      "cell_type": "markdown",
      "source": [
        "# Данные"
      ]
    },
    {
      "metadata": {
        "colab_type": "code",
        "id": "eVLBU4s9fF-q",
        "outputId": "2cd8596c-f5d0-492b-a048-ad03b602c612",
        "scrolled": true,
        "colab": {
          "base_uri": "https://localhost:8080/",
          "height": 377
        }
      },
      "cell_type": "code",
      "source": [
        " !wget https://www.dropbox.com/s/nd7v1fod89xla6j/vk_texts_with_sources.csv\n"
      ],
      "execution_count": 3,
      "outputs": [
        {
          "output_type": "stream",
          "text": [
            "--2019-03-04 08:40:51--  https://www.dropbox.com/s/nd7v1fod89xla6j/vk_texts_with_sources.csv\n",
            "Resolving www.dropbox.com (www.dropbox.com)... 162.125.8.1, 2620:100:601b:1::a27d:801\n",
            "Connecting to www.dropbox.com (www.dropbox.com)|162.125.8.1|:443... connected.\n",
            "HTTP request sent, awaiting response... 301 Moved Permanently\n",
            "Location: /s/raw/nd7v1fod89xla6j/vk_texts_with_sources.csv [following]\n",
            "--2019-03-04 08:40:51--  https://www.dropbox.com/s/raw/nd7v1fod89xla6j/vk_texts_with_sources.csv\n",
            "Reusing existing connection to www.dropbox.com:443.\n",
            "HTTP request sent, awaiting response... 302 Found\n",
            "Location: https://uc81336dac1e9c3917fc9ec9631c.dl.dropboxusercontent.com/cd/0/inline/AcauLnC2wylHNdhv91MouzJ_CzEYpva5QMX-acz_CIEwZdthpFtP0GYPQ4Gfgan3oaAdesU737Gvv3ACWt7C1VD7dTkmzLJXCG2yCJN5iIwK3hIQiZKBZNc2nWH_qhCs_bw/file# [following]\n",
            "--2019-03-04 08:40:52--  https://uc81336dac1e9c3917fc9ec9631c.dl.dropboxusercontent.com/cd/0/inline/AcauLnC2wylHNdhv91MouzJ_CzEYpva5QMX-acz_CIEwZdthpFtP0GYPQ4Gfgan3oaAdesU737Gvv3ACWt7C1VD7dTkmzLJXCG2yCJN5iIwK3hIQiZKBZNc2nWH_qhCs_bw/file\n",
            "Resolving uc81336dac1e9c3917fc9ec9631c.dl.dropboxusercontent.com (uc81336dac1e9c3917fc9ec9631c.dl.dropboxusercontent.com)... 162.125.9.6, 2620:100:601f:6::a27d:906\n",
            "Connecting to uc81336dac1e9c3917fc9ec9631c.dl.dropboxusercontent.com (uc81336dac1e9c3917fc9ec9631c.dl.dropboxusercontent.com)|162.125.9.6|:443... connected.\n",
            "HTTP request sent, awaiting response... 200 OK\n",
            "Length: 14406837 (14M) [text/plain]\n",
            "Saving to: ‘vk_texts_with_sources.csv’\n",
            "\n",
            "vk_texts_with_sourc 100%[===================>]  13.74M  36.7MB/s    in 0.4s    \n",
            "\n",
            "2019-03-04 08:40:53 (36.7 MB/s) - ‘vk_texts_with_sources.csv’ saved [14406837/14406837]\n",
            "\n"
          ],
          "name": "stdout"
        }
      ]
    },
    {
      "metadata": {
        "colab_type": "code",
        "id": "qxZMU8CBK664",
        "outputId": "abcbd440-766b-4fac-afaa-fbaafda23f43",
        "scrolled": true,
        "colab": {
          "base_uri": "https://localhost:8080/",
          "height": 204
        }
      },
      "cell_type": "code",
      "source": [
        "import pandas as pd\n",
        "df = pd.read_csv('vk_texts_with_sources.csv', encoding = 'utf-8', usecols = ['text', 'source'])\n",
        "df.head()"
      ],
      "execution_count": 4,
      "outputs": [
        {
          "output_type": "execute_result",
          "data": {
            "text/html": [
              "<div>\n",
              "<style scoped>\n",
              "    .dataframe tbody tr th:only-of-type {\n",
              "        vertical-align: middle;\n",
              "    }\n",
              "\n",
              "    .dataframe tbody tr th {\n",
              "        vertical-align: top;\n",
              "    }\n",
              "\n",
              "    .dataframe thead th {\n",
              "        text-align: right;\n",
              "    }\n",
              "</style>\n",
              "<table border=\"1\" class=\"dataframe\">\n",
              "  <thead>\n",
              "    <tr style=\"text-align: right;\">\n",
              "      <th></th>\n",
              "      <th>text</th>\n",
              "      <th>source</th>\n",
              "    </tr>\n",
              "  </thead>\n",
              "  <tbody>\n",
              "    <tr>\n",
              "      <th>0</th>\n",
              "      <td>Начальник Главного оперативного управления Ген...</td>\n",
              "      <td>mil</td>\n",
              "    </tr>\n",
              "    <tr>\n",
              "      <th>1</th>\n",
              "      <td>Артиллерийские подразделения общевойскового об...</td>\n",
              "      <td>mil</td>\n",
              "    </tr>\n",
              "    <tr>\n",
              "      <th>2</th>\n",
              "      <td>Подразделения морской пехоты Каспийской флотил...</td>\n",
              "      <td>mil</td>\n",
              "    </tr>\n",
              "    <tr>\n",
              "      <th>3</th>\n",
              "      <td>Команды на всеармейских этапах конкурсов АрМИ-...</td>\n",
              "      <td>mil</td>\n",
              "    </tr>\n",
              "    <tr>\n",
              "      <th>4</th>\n",
              "      <td>На большом учебно-методическом командирском сб...</td>\n",
              "      <td>mil</td>\n",
              "    </tr>\n",
              "  </tbody>\n",
              "</table>\n",
              "</div>"
            ],
            "text/plain": [
              "                                                text source\n",
              "0  Начальник Главного оперативного управления Ген...    mil\n",
              "1  Артиллерийские подразделения общевойскового об...    mil\n",
              "2  Подразделения морской пехоты Каспийской флотил...    mil\n",
              "3  Команды на всеармейских этапах конкурсов АрМИ-...    mil\n",
              "4  На большом учебно-методическом командирском сб...    mil"
            ]
          },
          "metadata": {
            "tags": []
          },
          "execution_count": 4
        }
      ]
    },
    {
      "metadata": {
        "id": "U_WZaXMg22kt",
        "colab_type": "code",
        "colab": {
          "base_uri": "https://localhost:8080/",
          "height": 34
        },
        "outputId": "26c8ce90-5e65-4772-d59d-8f814f298ac3"
      },
      "cell_type": "code",
      "source": [
        "df = df.dropna()\n",
        "df.shape"
      ],
      "execution_count": 5,
      "outputs": [
        {
          "output_type": "execute_result",
          "data": {
            "text/plain": [
              "(11526, 2)"
            ]
          },
          "metadata": {
            "tags": []
          },
          "execution_count": 5
        }
      ]
    },
    {
      "metadata": {
        "colab_type": "text",
        "id": "dYNCAr17MFA3"
      },
      "cell_type": "markdown",
      "source": [
        "# Домашнее задание 1 \n",
        "\n",
        "В этом домашнем задании вы будете решать задачу тематической классификации. Даны тексты, опубликованные в нескольких пабликах VK.com, посвященных государственным и муниципальным службам. Формально задача заключается в том, чтобы по тексту ($d$) определить в каком паблике он опубликован, то есть, к какому классу $c$ он принадлежит. "
      ]
    },
    {
      "metadata": {
        "colab_type": "text",
        "id": "e2EnN-U7MemU"
      },
      "cell_type": "markdown",
      "source": [
        "## Задание 1 [2 балла]. Описательные статистики\n",
        "Посчитайте:\n",
        "* количество текстов и количество классов\n",
        "* количество слов (без лемматизации и с лемматизацией) в коллекции\n",
        "* среднюю длину текста в словах и символах\n",
        "* найдите 5 самых частых существительных в текстах каждого паблика \n",
        "\n",
        "*Рекомендуем использовать pandas для расчета описательных статистик.*"
      ]
    },
    {
      "metadata": {
        "id": "X-xqrEj122k0",
        "colab_type": "code",
        "colab": {
          "base_uri": "https://localhost:8080/",
          "height": 204
        },
        "outputId": "bd77810f-0948-4a00-8867-4cf06aeca6d0"
      },
      "cell_type": "code",
      "source": [
        "!pip install pymorphy2\n",
        "import pymorphy2\n",
        "from string import punctuation\n",
        "from collections import Counter\n",
        "\n",
        "punct = punctuation+' «»—…“”*№–<>br'\n",
        "morph = pymorphy2.MorphAnalyzer()"
      ],
      "execution_count": 7,
      "outputs": [
        {
          "output_type": "stream",
          "text": [
            "Collecting pymorphy2\n",
            "\u001b[?25l  Downloading https://files.pythonhosted.org/packages/a3/33/fff9675c68b5f6c63ec8c6e6ff57827dda28a1fa5b2c2d727dffff92dd47/pymorphy2-0.8-py2.py3-none-any.whl (46kB)\n",
            "\u001b[K    100% |████████████████████████████████| 51kB 2.0MB/s \n",
            "\u001b[?25hRequirement already satisfied: docopt>=0.6 in /usr/local/lib/python3.6/dist-packages (from pymorphy2) (0.6.2)\n",
            "Collecting dawg-python>=0.7 (from pymorphy2)\n",
            "  Downloading https://files.pythonhosted.org/packages/6a/84/ff1ce2071d4c650ec85745766c0047ccc3b5036f1d03559fd46bb38b5eeb/DAWG_Python-0.7.2-py2.py3-none-any.whl\n",
            "Collecting pymorphy2-dicts<3.0,>=2.4 (from pymorphy2)\n",
            "\u001b[?25l  Downloading https://files.pythonhosted.org/packages/02/51/2465fd4f72328ab50877b54777764d928da8cb15b74e2680fc1bd8cb3173/pymorphy2_dicts-2.4.393442.3710985-py2.py3-none-any.whl (7.1MB)\n",
            "\u001b[K    100% |████████████████████████████████| 7.1MB 4.6MB/s \n",
            "\u001b[?25hInstalling collected packages: dawg-python, pymorphy2-dicts, pymorphy2\n",
            "Successfully installed dawg-python-0.7.2 pymorphy2-0.8 pymorphy2-dicts-2.4.393442.3710985\n"
          ],
          "name": "stdout"
        }
      ]
    },
    {
      "metadata": {
        "id": "XsgI62vp22k3",
        "colab_type": "code",
        "colab": {}
      },
      "cell_type": "code",
      "source": [
        "num_txts = df.shape[0]      # количество текстов\n",
        "num_class = len(set(df.source))     # количество классов"
      ],
      "execution_count": 0,
      "outputs": []
    },
    {
      "metadata": {
        "id": "Cj0IDgbl22k5",
        "colab_type": "code",
        "colab": {}
      },
      "cell_type": "code",
      "source": [
        "def split_txt(text):\n",
        "    txt = []\n",
        "    for word in text.split(' '):\n",
        "            word = word.strip(punct).lower().replace('<br>', '')  # проверить норм ли работает\n",
        "            if word:\n",
        "                txt.append(word)\n",
        "    return txt\n",
        "\n",
        "\n",
        "def len_txt(text):\n",
        "    return(len(text))\n",
        "\n",
        "def lemmatize(text):\n",
        "    words = [morph.parse(word)[0].normal_form for word in text]\n",
        "    return words"
      ],
      "execution_count": 0,
      "outputs": []
    },
    {
      "metadata": {
        "id": "YaX2I-Oh22k9",
        "colab_type": "code",
        "colab": {}
      },
      "cell_type": "code",
      "source": [
        "df['spl_txt'] = df['text'].apply(split_txt)    # тексты без пунктуации\n",
        "df['len_words'] = df['spl_txt'].apply(len_txt)   # длина текста в словах\n",
        "df['len_symbols'] = df['text'].apply(len_txt)    # длина текста в символах\n",
        "df['lemmas'] = df['spl_txt'].apply(lemmatize)  # лемматизированный текст"
      ],
      "execution_count": 0,
      "outputs": []
    },
    {
      "metadata": {
        "id": "J2A4kprK22lA",
        "colab_type": "code",
        "colab": {}
      },
      "cell_type": "code",
      "source": [
        "def get_all_lemmas(text):\n",
        "    all_lemmas = []\n",
        "    for txt in text:\n",
        "        all_lemmas.extend(txt)\n",
        "    return all_lemmas\n",
        "\n",
        "unique_lemmas = len(set(get_all_lemmas(df['lemmas'])))    # число уникальных лемм в корпусе"
      ],
      "execution_count": 0,
      "outputs": []
    },
    {
      "metadata": {
        "id": "jSOyw5xe22lD",
        "colab_type": "code",
        "colab": {}
      },
      "cell_type": "code",
      "source": [
        "len_corpus_w = sum(df.len_words)       # длина корпуса в словах\n",
        "mean_len_words = df.len_words.mean()   # средняя длина текста в словах\n",
        "mean_len_symbols = df.len_symbols.mean() # средняя длина текста в символах"
      ],
      "execution_count": 0,
      "outputs": []
    },
    {
      "metadata": {
        "id": "eyoSFCsK22lF",
        "colab_type": "code",
        "colab": {}
      },
      "cell_type": "code",
      "source": [
        "def get_freq_n(text):\n",
        "    nouns = []\n",
        "    for word in text:\n",
        "        if 'NOUN' in morph.parse(word)[0].tag:\n",
        "            nouns.append(word)   \n",
        "    return [i[0] for i in Counter(nouns).most_common(5)]"
      ],
      "execution_count": 0,
      "outputs": []
    },
    {
      "metadata": {
        "id": "hmrtDl-l22lI",
        "colab_type": "code",
        "colab": {}
      },
      "cell_type": "code",
      "source": [
        "grouped = df.groupby(['source'])\n",
        "names = []\n",
        "\n",
        "for name, group in grouped:\n",
        "    names.append(name)\n",
        "    if name == 'mil':\n",
        "        mil = group['lemmas']\n",
        "    elif name == 'mchsgov':\n",
        "        mchsgov = group['lemmas']\n",
        "    elif name == 'mospolice':\n",
        "        mospolice = group['lemmas']\n",
        "    elif name == 'russianpost':\n",
        "        russianpost = group['lemmas']\n",
        "\n",
        "mil = get_all_lemmas(mil)\n",
        "mchs = get_all_lemmas(mchsgov)\n",
        "police = get_all_lemmas(mospolice)\n",
        "post = get_all_lemmas(russianpost)"
      ],
      "execution_count": 0,
      "outputs": []
    },
    {
      "metadata": {
        "id": "Sn_sbP6k22lK",
        "colab_type": "code",
        "colab": {}
      },
      "cell_type": "code",
      "source": [
        "nouns_mil = get_freq_n(mil)\n",
        "nouns_mchs = get_freq_n(mchs)\n",
        "nouns_police = get_freq_n(police)\n",
        "nouns_post = get_freq_n(post)"
      ],
      "execution_count": 0,
      "outputs": []
    },
    {
      "metadata": {
        "id": "5NdQI9aU22lM",
        "colab_type": "code",
        "colab": {}
      },
      "cell_type": "code",
      "source": [
        "all_nouns = [nouns_mil, nouns_mchs, nouns_police, nouns_post]"
      ],
      "execution_count": 0,
      "outputs": []
    },
    {
      "metadata": {
        "id": "R_oGxUTT22lP",
        "colab_type": "code",
        "colab": {}
      },
      "cell_type": "code",
      "source": [
        "nouns = pd.DataFrame({'source': [n for n in names]})\n",
        "\n",
        "nouns['source'] = names\n",
        "nouns['frequent nouns'] = all_nouns"
      ],
      "execution_count": 0,
      "outputs": []
    },
    {
      "metadata": {
        "id": "qv4Ff1tZ22lS",
        "colab_type": "code",
        "colab": {
          "base_uri": "https://localhost:8080/",
          "height": 204
        },
        "outputId": "4c349c32-597f-46eb-a21a-494e4b652189"
      },
      "cell_type": "code",
      "source": [
        "df.head()"
      ],
      "execution_count": 19,
      "outputs": [
        {
          "output_type": "execute_result",
          "data": {
            "text/html": [
              "<div>\n",
              "<style scoped>\n",
              "    .dataframe tbody tr th:only-of-type {\n",
              "        vertical-align: middle;\n",
              "    }\n",
              "\n",
              "    .dataframe tbody tr th {\n",
              "        vertical-align: top;\n",
              "    }\n",
              "\n",
              "    .dataframe thead th {\n",
              "        text-align: right;\n",
              "    }\n",
              "</style>\n",
              "<table border=\"1\" class=\"dataframe\">\n",
              "  <thead>\n",
              "    <tr style=\"text-align: right;\">\n",
              "      <th></th>\n",
              "      <th>text</th>\n",
              "      <th>source</th>\n",
              "      <th>spl_txt</th>\n",
              "      <th>len_words</th>\n",
              "      <th>len_symbols</th>\n",
              "      <th>lemmas</th>\n",
              "    </tr>\n",
              "  </thead>\n",
              "  <tbody>\n",
              "    <tr>\n",
              "      <th>0</th>\n",
              "      <td>Начальник Главного оперативного управления Ген...</td>\n",
              "      <td>mil</td>\n",
              "      <td>[начальник, главного, оперативного, управления...</td>\n",
              "      <td>1611</td>\n",
              "      <td>13306</td>\n",
              "      <td>[начальник, главный, оперативный, управление, ...</td>\n",
              "    </tr>\n",
              "    <tr>\n",
              "      <th>1</th>\n",
              "      <td>Артиллерийские подразделения общевойскового об...</td>\n",
              "      <td>mil</td>\n",
              "      <td>[артиллерийские, подразделения, общевойскового...</td>\n",
              "      <td>87</td>\n",
              "      <td>759</td>\n",
              "      <td>[артиллерийский, подразделение, общевойсковой,...</td>\n",
              "    </tr>\n",
              "    <tr>\n",
              "      <th>2</th>\n",
              "      <td>Подразделения морской пехоты Каспийской флотил...</td>\n",
              "      <td>mil</td>\n",
              "      <td>[подразделения, морской, пехоты, каспийской, ф...</td>\n",
              "      <td>49</td>\n",
              "      <td>499</td>\n",
              "      <td>[подразделение, морской, пехота, каспийский, ф...</td>\n",
              "    </tr>\n",
              "    <tr>\n",
              "      <th>3</th>\n",
              "      <td>Команды на всеармейских этапах конкурсов АрМИ-...</td>\n",
              "      <td>mil</td>\n",
              "      <td>[команды, на, всеармейских, этапах, конкурсов,...</td>\n",
              "      <td>126</td>\n",
              "      <td>1091</td>\n",
              "      <td>[команда, на, всеармейский, этап, конкурс, арм...</td>\n",
              "    </tr>\n",
              "    <tr>\n",
              "      <th>4</th>\n",
              "      <td>На большом учебно-методическом командирском сб...</td>\n",
              "      <td>mil</td>\n",
              "      <td>[на, большом, учебно-методическом, командирско...</td>\n",
              "      <td>78</td>\n",
              "      <td>719</td>\n",
              "      <td>[на, большой, учебно-методический, командирски...</td>\n",
              "    </tr>\n",
              "  </tbody>\n",
              "</table>\n",
              "</div>"
            ],
            "text/plain": [
              "                                                text source  \\\n",
              "0  Начальник Главного оперативного управления Ген...    mil   \n",
              "1  Артиллерийские подразделения общевойскового об...    mil   \n",
              "2  Подразделения морской пехоты Каспийской флотил...    mil   \n",
              "3  Команды на всеармейских этапах конкурсов АрМИ-...    mil   \n",
              "4  На большом учебно-методическом командирском сб...    mil   \n",
              "\n",
              "                                             spl_txt  len_words  len_symbols  \\\n",
              "0  [начальник, главного, оперативного, управления...       1611        13306   \n",
              "1  [артиллерийские, подразделения, общевойскового...         87          759   \n",
              "2  [подразделения, морской, пехоты, каспийской, ф...         49          499   \n",
              "3  [команды, на, всеармейских, этапах, конкурсов,...        126         1091   \n",
              "4  [на, большом, учебно-методическом, командирско...         78          719   \n",
              "\n",
              "                                              lemmas  \n",
              "0  [начальник, главный, оперативный, управление, ...  \n",
              "1  [артиллерийский, подразделение, общевойсковой,...  \n",
              "2  [подразделение, морской, пехота, каспийский, ф...  \n",
              "3  [команда, на, всеармейский, этап, конкурс, арм...  \n",
              "4  [на, большой, учебно-методический, командирски...  "
            ]
          },
          "metadata": {
            "tags": []
          },
          "execution_count": 19
        }
      ]
    },
    {
      "metadata": {
        "id": "hxNwnYC622lW",
        "colab_type": "text"
      },
      "cell_type": "markdown",
      "source": [
        "### Итог"
      ]
    },
    {
      "metadata": {
        "id": "4OgCcGGE22lX",
        "colab_type": "code",
        "colab": {
          "base_uri": "https://localhost:8080/",
          "height": 292
        },
        "outputId": "5f1e4e1f-0501-4187-9de3-ddacc81c62c0"
      },
      "cell_type": "code",
      "source": [
        "print('количество текстов: ' + str(num_txts))\n",
        "print('количество классов: ' + str(num_class))\n",
        "print('количество слов (без лемматизации): ' + str(len_corpus_w))\n",
        "print('количество лемм: ' + str(unique_lemmas))\n",
        "print('средняя длина текста в словах: ' + str(mean_len_words))\n",
        "print('средняя длина текста в символах: ' + str(mean_len_symbols))\n",
        "print('топ-5 существительных для каждого класса:')\n",
        "nouns"
      ],
      "execution_count": 20,
      "outputs": [
        {
          "output_type": "stream",
          "text": [
            "количество текстов: 11526\n",
            "количество классов: 4\n",
            "количество слов (без лемматизации): 960797\n",
            "количество лемм: 48257\n",
            "средняя длина текста в словах: 83.35910116258893\n",
            "средняя длина текста в символах: 690.7630574353635\n",
            "топ-5 существительных для каждого класса:\n"
          ],
          "name": "stdout"
        },
        {
          "output_type": "execute_result",
          "data": {
            "text/html": [
              "<div>\n",
              "<style scoped>\n",
              "    .dataframe tbody tr th:only-of-type {\n",
              "        vertical-align: middle;\n",
              "    }\n",
              "\n",
              "    .dataframe tbody tr th {\n",
              "        vertical-align: top;\n",
              "    }\n",
              "\n",
              "    .dataframe thead th {\n",
              "        text-align: right;\n",
              "    }\n",
              "</style>\n",
              "<table border=\"1\" class=\"dataframe\">\n",
              "  <thead>\n",
              "    <tr style=\"text-align: right;\">\n",
              "      <th></th>\n",
              "      <th>source</th>\n",
              "      <th>frequent nouns</th>\n",
              "    </tr>\n",
              "  </thead>\n",
              "  <tbody>\n",
              "    <tr>\n",
              "      <th>0</th>\n",
              "      <td>mchsgov</td>\n",
              "      <td>[военный, минобороны, россия, год, оборона]</td>\n",
              "    </tr>\n",
              "    <tr>\n",
              "      <th>1</th>\n",
              "      <td>mil</td>\n",
              "      <td>[мчс, россия, мчсроссия, спасатель, год]</td>\n",
              "    </tr>\n",
              "    <tr>\n",
              "      <th>2</th>\n",
              "      <td>mospolice</td>\n",
              "      <td>[полиция, год, москва, мвд, россия]</td>\n",
              "    </tr>\n",
              "    <tr>\n",
              "      <th>3</th>\n",
              "      <td>russianpost</td>\n",
              "      <td>[почта, россия, год, отделение, письмо]</td>\n",
              "    </tr>\n",
              "  </tbody>\n",
              "</table>\n",
              "</div>"
            ],
            "text/plain": [
              "        source                               frequent nouns\n",
              "0      mchsgov  [военный, минобороны, россия, год, оборона]\n",
              "1          mil     [мчс, россия, мчсроссия, спасатель, год]\n",
              "2    mospolice          [полиция, год, москва, мвд, россия]\n",
              "3  russianpost      [почта, россия, год, отделение, письмо]"
            ]
          },
          "metadata": {
            "tags": []
          },
          "execution_count": 20
        }
      ]
    },
    {
      "metadata": {
        "colab_type": "text",
        "id": "fTJPlulvQSqQ"
      },
      "cell_type": "markdown",
      "source": [
        "Разделите коллекцию текстов на обучающую и тестовую части. "
      ]
    },
    {
      "metadata": {
        "id": "SkvzU1BN22lb",
        "colab_type": "code",
        "colab": {}
      },
      "cell_type": "code",
      "source": [
        "from sklearn.utils import shuffle\n",
        "from sklearn.model_selection import train_test_split\n",
        "\n",
        "df = shuffle(df)\n",
        "\n",
        "cleared_text = [' '.join(text) for text in df['spl_txt']]\n",
        "X_train, X_test, y_train, y_test = train_test_split(cleared_text, df['source'], test_size=0.2, random_state=42)"
      ],
      "execution_count": 0,
      "outputs": []
    },
    {
      "metadata": {
        "colab_type": "text",
        "id": "9yCVYfbpNhXd"
      },
      "cell_type": "markdown",
      "source": [
        " ## Задание 2 [2 балла]. Классификация по правилам\n",
        " \n",
        " * Разработайте несколько правил вида \"Если встречается слово $w$, то текст относится к паблику $c$\"\n",
        " * Посчитайте, какую точность, полноту, $f$-меру и $accuracy$ вы получаете при классификации по правилам\n",
        " * Получилось ли у вас придумать правило, которое никогда не ошибается?"
      ]
    },
    {
      "metadata": {
        "id": "oGpFl9wi9kSh",
        "colab_type": "text"
      },
      "cell_type": "markdown",
      "source": [
        "Для начала попробуем определять источник по самым частотным леммам текста. Леммы \"россия\" и \"год\" являются самыми частотными для всех 4 ресурсов, поэтому их использовать не будем. Если искомой леммы в тексте нет, то присвоим ресурс рандомно. "
      ]
    },
    {
      "metadata": {
        "id": "5hMtjGxH5qcE",
        "colab_type": "code",
        "colab": {}
      },
      "cell_type": "code",
      "source": [
        "import random\n",
        "\n",
        "def predict_source_by_rule_1(text):\n",
        "    if ('мчс', 'спасатель', 'мчсроссия') in text:\n",
        "      return 'mchsgov'\n",
        "    if ('минобороны' or 'оборона' or 'военный') in text:\n",
        "      return 'mil'\n",
        "    if ('почта' or 'отделение' or 'письмо') in text: \n",
        "      return 'russianpost'\n",
        "    if ('мвд' or 'полиция' or 'москва') in text:\n",
        "      return 'mospolice'\n",
        "    else:\n",
        "      return random.choice(['mil', 'russianpost', 'mospolice', 'mchsgov'])\n",
        " \n"
      ],
      "execution_count": 0,
      "outputs": []
    },
    {
      "metadata": {
        "id": "CBYFys9C9ZLC",
        "colab_type": "code",
        "colab": {
          "base_uri": "https://localhost:8080/",
          "height": 306
        },
        "outputId": "18cc0e3d-48e3-4a26-a51f-010453aa945e"
      },
      "cell_type": "code",
      "source": [
        "\n",
        "df['predicted_source'] = df['lemmas'].apply(predict_source_by_rule_1) \n",
        "    \n",
        "df.head()"
      ],
      "execution_count": 159,
      "outputs": [
        {
          "output_type": "stream",
          "text": [
            "/usr/local/lib/python3.6/dist-packages/ipykernel_launcher.py:2: SettingWithCopyWarning: \n",
            "A value is trying to be set on a copy of a slice from a DataFrame.\n",
            "Try using .loc[row_indexer,col_indexer] = value instead\n",
            "\n",
            "See the caveats in the documentation: http://pandas.pydata.org/pandas-docs/stable/indexing.html#indexing-view-versus-copy\n",
            "  \n"
          ],
          "name": "stderr"
        },
        {
          "output_type": "execute_result",
          "data": {
            "text/html": [
              "<div>\n",
              "<style scoped>\n",
              "    .dataframe tbody tr th:only-of-type {\n",
              "        vertical-align: middle;\n",
              "    }\n",
              "\n",
              "    .dataframe tbody tr th {\n",
              "        vertical-align: top;\n",
              "    }\n",
              "\n",
              "    .dataframe thead th {\n",
              "        text-align: right;\n",
              "    }\n",
              "</style>\n",
              "<table border=\"1\" class=\"dataframe\">\n",
              "  <thead>\n",
              "    <tr style=\"text-align: right;\">\n",
              "      <th></th>\n",
              "      <th>text</th>\n",
              "      <th>source</th>\n",
              "      <th>spl_txt</th>\n",
              "      <th>len_words</th>\n",
              "      <th>len_symbols</th>\n",
              "      <th>lemmas</th>\n",
              "      <th>predicted_source</th>\n",
              "    </tr>\n",
              "  </thead>\n",
              "  <tbody>\n",
              "    <tr>\n",
              "      <th>5524</th>\n",
              "      <td>Спасатели на вертолете Ми-8 МЧС России эвакуир...</td>\n",
              "      <td>mchsgov</td>\n",
              "      <td>[спасатели, на, вертолете, ми-8, мчс, россии, ...</td>\n",
              "      <td>22</td>\n",
              "      <td>210</td>\n",
              "      <td>[спасатель, на, вертолёт, ми-8, мчс, россия, э...</td>\n",
              "      <td>mospolice</td>\n",
              "    </tr>\n",
              "    <tr>\n",
              "      <th>8353</th>\n",
              "      <td>ЖЗЛ: Самая короткая строчка писателя&lt;br&gt;&lt;br&gt;Са...</td>\n",
              "      <td>russianpost</td>\n",
              "      <td>[жзл, самая, короткая, строчка, писателясамой,...</td>\n",
              "      <td>24</td>\n",
              "      <td>185</td>\n",
              "      <td>[жзл, самый, короткий, строчка, писателясама, ...</td>\n",
              "      <td>russianpost</td>\n",
              "    </tr>\n",
              "    <tr>\n",
              "      <th>8335</th>\n",
              "      <td>Услуга SMS -уведомления&lt;br&gt;&lt;br&gt;Сегодня не обяз...</td>\n",
              "      <td>russianpost</td>\n",
              "      <td>[услуга, sms, уведомлениясегодня, не, обязател...</td>\n",
              "      <td>64</td>\n",
              "      <td>544</td>\n",
              "      <td>[услуга, sms, уведомлениясегодний, не, обязате...</td>\n",
              "      <td>russianpost</td>\n",
              "    </tr>\n",
              "    <tr>\n",
              "      <th>5215</th>\n",
              "      <td>МЧС России окажет помощь Италии в преодолении ...</td>\n",
              "      <td>mchsgov</td>\n",
              "      <td>[мчс, россии, окажет, помощь, италии, в, преод...</td>\n",
              "      <td>13</td>\n",
              "      <td>177</td>\n",
              "      <td>[мчс, россия, оказать, помощь, италия, в, прео...</td>\n",
              "      <td>russianpost</td>\n",
              "    </tr>\n",
              "    <tr>\n",
              "      <th>3129</th>\n",
              "      <td>#МЧС #МЧСРОССИИ &lt;br&gt;&lt;br&gt;В столетие со дня подп...</td>\n",
              "      <td>mchsgov</td>\n",
              "      <td>[мчс, мчсроссии, в, столетие, со, дня, подписа...</td>\n",
              "      <td>108</td>\n",
              "      <td>865</td>\n",
              "      <td>[мчс, мчсроссия, в, столетие, с, день, подписа...</td>\n",
              "      <td>mospolice</td>\n",
              "    </tr>\n",
              "  </tbody>\n",
              "</table>\n",
              "</div>"
            ],
            "text/plain": [
              "                                                   text       source  \\\n",
              "5524  Спасатели на вертолете Ми-8 МЧС России эвакуир...      mchsgov   \n",
              "8353  ЖЗЛ: Самая короткая строчка писателя<br><br>Са...  russianpost   \n",
              "8335  Услуга SMS -уведомления<br><br>Сегодня не обяз...  russianpost   \n",
              "5215  МЧС России окажет помощь Италии в преодолении ...      mchsgov   \n",
              "3129  #МЧС #МЧСРОССИИ <br><br>В столетие со дня подп...      mchsgov   \n",
              "\n",
              "                                                spl_txt  len_words  \\\n",
              "5524  [спасатели, на, вертолете, ми-8, мчс, россии, ...         22   \n",
              "8353  [жзл, самая, короткая, строчка, писателясамой,...         24   \n",
              "8335  [услуга, sms, уведомлениясегодня, не, обязател...         64   \n",
              "5215  [мчс, россии, окажет, помощь, италии, в, преод...         13   \n",
              "3129  [мчс, мчсроссии, в, столетие, со, дня, подписа...        108   \n",
              "\n",
              "      len_symbols                                             lemmas  \\\n",
              "5524          210  [спасатель, на, вертолёт, ми-8, мчс, россия, э...   \n",
              "8353          185  [жзл, самый, короткий, строчка, писателясама, ...   \n",
              "8335          544  [услуга, sms, уведомлениясегодний, не, обязате...   \n",
              "5215          177  [мчс, россия, оказать, помощь, италия, в, прео...   \n",
              "3129          865  [мчс, мчсроссия, в, столетие, с, день, подписа...   \n",
              "\n",
              "     predicted_source  \n",
              "5524        mospolice  \n",
              "8353      russianpost  \n",
              "8335      russianpost  \n",
              "5215      russianpost  \n",
              "3129        mospolice  "
            ]
          },
          "metadata": {
            "tags": []
          },
          "execution_count": 159
        }
      ]
    },
    {
      "metadata": {
        "id": "SDgjpIOo-zA6",
        "colab_type": "text"
      },
      "cell_type": "markdown",
      "source": [
        "Видно, что некоторые источники определились верно. Оценим, насколько."
      ]
    },
    {
      "metadata": {
        "id": "g-McKxgy7d1n",
        "colab_type": "code",
        "colab": {}
      },
      "cell_type": "code",
      "source": [
        "import sklearn\n",
        "from sklearn.metrics import *\n",
        "\n",
        "def evaluate(true, predicted):\n",
        "    precision = precision_score(true, predicted, average = 'macro')\n",
        "    recall = recall_score(true, predicted, average = 'macro')\n",
        "    accuracy = accuracy_score(true, predicted)\n",
        "    f1 = f1_score(true, predicted, average = 'macro')\n",
        "  \n",
        "    return print(' precision:', precision, '\\n', 'recall:', recall, '\\n', 'accuracy:', accuracy, '\\n', 'f1:', f1)\n"
      ],
      "execution_count": 0,
      "outputs": []
    },
    {
      "metadata": {
        "id": "l4_yjDNF-xX7",
        "colab_type": "text"
      },
      "cell_type": "markdown",
      "source": [
        ""
      ]
    },
    {
      "metadata": {
        "id": "lbbelVmH822p",
        "colab_type": "code",
        "colab": {
          "base_uri": "https://localhost:8080/",
          "height": 85
        },
        "outputId": "3b97fb35-b9b6-4064-ecf8-d6b39eb8fe8c"
      },
      "cell_type": "code",
      "source": [
        "evaluate(df['source'], df['predicted_source'])"
      ],
      "execution_count": 161,
      "outputs": [
        {
          "output_type": "stream",
          "text": [
            " precision: 0.5272078975619967 \n",
            " recall: 0.5466461597977812 \n",
            " accuracy: 0.5405170917924692 \n",
            " f1: 0.5248036506621003\n"
          ],
          "name": "stdout"
        }
      ]
    },
    {
      "metadata": {
        "id": "YTPeWdPE--sk",
        "colab_type": "text"
      },
      "cell_type": "markdown",
      "source": [
        "F-мера ~0.524 не так уж и много. \n",
        "Заметим, что админы пабликов не ленятся ставить хэштеги к своим постам. Возможно, у нас получится определить источник текста по хэштегу?"
      ]
    },
    {
      "metadata": {
        "id": "nwAWUR5p_W6Q",
        "colab_type": "code",
        "colab": {}
      },
      "cell_type": "code",
      "source": [
        "def predict_source_by_rule_2(text):\n",
        "   if ('МЧС') in text:\n",
        "      return 'mchsgov'\n",
        "   if ('Минобороны') in text:\n",
        "      return 'mil'\n",
        "   if ('ПочтаРоссии') in text: \n",
        "      return 'russianpost'\n",
        "   if ('МВД') in text:\n",
        "      return 'mospolice'\n",
        "   else:\n",
        "    return random.choice(['mil', 'russianpost', 'mospolice', 'mchsgov'])"
      ],
      "execution_count": 0,
      "outputs": []
    },
    {
      "metadata": {
        "id": "7VxvTDUT_pu4",
        "colab_type": "code",
        "colab": {
          "base_uri": "https://localhost:8080/",
          "height": 119
        },
        "outputId": "5339ef66-4f2a-48f1-c5fc-a927fcd5d14f"
      },
      "cell_type": "code",
      "source": [
        "\n",
        "df['predicted_source'] = df['text'].apply(predict_source_by_rule_2) \n",
        "    "
      ],
      "execution_count": 174,
      "outputs": [
        {
          "output_type": "stream",
          "text": [
            "/usr/local/lib/python3.6/dist-packages/ipykernel_launcher.py:2: SettingWithCopyWarning: \n",
            "A value is trying to be set on a copy of a slice from a DataFrame.\n",
            "Try using .loc[row_indexer,col_indexer] = value instead\n",
            "\n",
            "See the caveats in the documentation: http://pandas.pydata.org/pandas-docs/stable/indexing.html#indexing-view-versus-copy\n",
            "  \n"
          ],
          "name": "stderr"
        }
      ]
    },
    {
      "metadata": {
        "id": "qprizBjcA9T4",
        "colab_type": "code",
        "colab": {
          "base_uri": "https://localhost:8080/",
          "height": 85
        },
        "outputId": "6a484e25-96b2-4314-db7f-32b86fed83ca"
      },
      "cell_type": "code",
      "source": [
        "evaluate(test['source'], test['predicted_source'])"
      ],
      "execution_count": 175,
      "outputs": [
        {
          "output_type": "stream",
          "text": [
            " precision: 0.5166613171064177 \n",
            " recall: 0.5372814376008659 \n",
            " accuracy: 0.5333911535125759 \n",
            " f1: 0.5163699777468336\n"
          ],
          "name": "stdout"
        }
      ]
    },
    {
      "metadata": {
        "id": "MSrzMyGuBEUp",
        "colab_type": "text"
      },
      "cell_type": "markdown",
      "source": [
        "Оказывается, простые хэштеги работают лучше, чем леммы: метрики увеличились почти на 0,25. Попробуем добавить ещё слов. "
      ]
    },
    {
      "metadata": {
        "id": "QxxgZSlPBSJn",
        "colab_type": "code",
        "colab": {}
      },
      "cell_type": "code",
      "source": [
        "import re\n",
        "\n",
        "def predict_source_by_rule_3(text):\n",
        "   for i in re.findall(r'[сС]пасат.*', text):\n",
        "      if i in text:\n",
        "        return 'mchsgov'\n",
        "   for i in re.findall(r'(мчс|МЧС).*', text):\n",
        "      if i in text:\n",
        "        return 'mchsgov'\n",
        "   for i in re.findall(r'[мМ]иноборон.*', text):\n",
        "    if i in text:\n",
        "      return 'mil'\n",
        "   for i in re.findall(r'.*Победы', text):\n",
        "    if i in text:\n",
        "      return 'mil'\n",
        "   for i in re.findall(r'[пП]очт.*', text):\n",
        "    if i in text: \n",
        "      return 'russianpost'\n",
        "   if ('МВД') in text:\n",
        "      return 'mospolice'\n",
        "   else:\n",
        "    return random.choice(['mil', 'russianpost', 'mospolice', 'mchsgov'])"
      ],
      "execution_count": 0,
      "outputs": []
    },
    {
      "metadata": {
        "id": "ZwdQ3mqhCHma",
        "colab_type": "code",
        "colab": {
          "base_uri": "https://localhost:8080/",
          "height": 306
        },
        "outputId": "4e45b511-6757-4ebe-a7dd-451c88147561"
      },
      "cell_type": "code",
      "source": [
        "df['predicted_source'] = df['text'].apply(predict_source_by_rule_3) \n",
        "df.head()\n",
        "\n"
      ],
      "execution_count": 177,
      "outputs": [
        {
          "output_type": "stream",
          "text": [
            "/usr/local/lib/python3.6/dist-packages/ipykernel_launcher.py:1: SettingWithCopyWarning: \n",
            "A value is trying to be set on a copy of a slice from a DataFrame.\n",
            "Try using .loc[row_indexer,col_indexer] = value instead\n",
            "\n",
            "See the caveats in the documentation: http://pandas.pydata.org/pandas-docs/stable/indexing.html#indexing-view-versus-copy\n",
            "  \"\"\"Entry point for launching an IPython kernel.\n"
          ],
          "name": "stderr"
        },
        {
          "output_type": "execute_result",
          "data": {
            "text/html": [
              "<div>\n",
              "<style scoped>\n",
              "    .dataframe tbody tr th:only-of-type {\n",
              "        vertical-align: middle;\n",
              "    }\n",
              "\n",
              "    .dataframe tbody tr th {\n",
              "        vertical-align: top;\n",
              "    }\n",
              "\n",
              "    .dataframe thead th {\n",
              "        text-align: right;\n",
              "    }\n",
              "</style>\n",
              "<table border=\"1\" class=\"dataframe\">\n",
              "  <thead>\n",
              "    <tr style=\"text-align: right;\">\n",
              "      <th></th>\n",
              "      <th>text</th>\n",
              "      <th>source</th>\n",
              "      <th>spl_txt</th>\n",
              "      <th>len_words</th>\n",
              "      <th>len_symbols</th>\n",
              "      <th>lemmas</th>\n",
              "      <th>predicted_source</th>\n",
              "    </tr>\n",
              "  </thead>\n",
              "  <tbody>\n",
              "    <tr>\n",
              "      <th>5524</th>\n",
              "      <td>Спасатели на вертолете Ми-8 МЧС России эвакуир...</td>\n",
              "      <td>mchsgov</td>\n",
              "      <td>[спасатели, на, вертолете, ми-8, мчс, россии, ...</td>\n",
              "      <td>22</td>\n",
              "      <td>210</td>\n",
              "      <td>[спасатель, на, вертолёт, ми-8, мчс, россия, э...</td>\n",
              "      <td>mchsgov</td>\n",
              "    </tr>\n",
              "    <tr>\n",
              "      <th>8353</th>\n",
              "      <td>ЖЗЛ: Самая короткая строчка писателя&lt;br&gt;&lt;br&gt;Са...</td>\n",
              "      <td>russianpost</td>\n",
              "      <td>[жзл, самая, короткая, строчка, писателясамой,...</td>\n",
              "      <td>24</td>\n",
              "      <td>185</td>\n",
              "      <td>[жзл, самый, короткий, строчка, писателясама, ...</td>\n",
              "      <td>russianpost</td>\n",
              "    </tr>\n",
              "    <tr>\n",
              "      <th>8335</th>\n",
              "      <td>Услуга SMS -уведомления&lt;br&gt;&lt;br&gt;Сегодня не обяз...</td>\n",
              "      <td>russianpost</td>\n",
              "      <td>[услуга, sms, уведомлениясегодня, не, обязател...</td>\n",
              "      <td>64</td>\n",
              "      <td>544</td>\n",
              "      <td>[услуга, sms, уведомлениясегодний, не, обязате...</td>\n",
              "      <td>russianpost</td>\n",
              "    </tr>\n",
              "    <tr>\n",
              "      <th>5215</th>\n",
              "      <td>МЧС России окажет помощь Италии в преодолении ...</td>\n",
              "      <td>mchsgov</td>\n",
              "      <td>[мчс, россии, окажет, помощь, италии, в, преод...</td>\n",
              "      <td>13</td>\n",
              "      <td>177</td>\n",
              "      <td>[мчс, россия, оказать, помощь, италия, в, прео...</td>\n",
              "      <td>mchsgov</td>\n",
              "    </tr>\n",
              "    <tr>\n",
              "      <th>3129</th>\n",
              "      <td>#МЧС #МЧСРОССИИ &lt;br&gt;&lt;br&gt;В столетие со дня подп...</td>\n",
              "      <td>mchsgov</td>\n",
              "      <td>[мчс, мчсроссии, в, столетие, со, дня, подписа...</td>\n",
              "      <td>108</td>\n",
              "      <td>865</td>\n",
              "      <td>[мчс, мчсроссия, в, столетие, с, день, подписа...</td>\n",
              "      <td>mchsgov</td>\n",
              "    </tr>\n",
              "  </tbody>\n",
              "</table>\n",
              "</div>"
            ],
            "text/plain": [
              "                                                   text       source  \\\n",
              "5524  Спасатели на вертолете Ми-8 МЧС России эвакуир...      mchsgov   \n",
              "8353  ЖЗЛ: Самая короткая строчка писателя<br><br>Са...  russianpost   \n",
              "8335  Услуга SMS -уведомления<br><br>Сегодня не обяз...  russianpost   \n",
              "5215  МЧС России окажет помощь Италии в преодолении ...      mchsgov   \n",
              "3129  #МЧС #МЧСРОССИИ <br><br>В столетие со дня подп...      mchsgov   \n",
              "\n",
              "                                                spl_txt  len_words  \\\n",
              "5524  [спасатели, на, вертолете, ми-8, мчс, россии, ...         22   \n",
              "8353  [жзл, самая, короткая, строчка, писателясамой,...         24   \n",
              "8335  [услуга, sms, уведомлениясегодня, не, обязател...         64   \n",
              "5215  [мчс, россии, окажет, помощь, италии, в, преод...         13   \n",
              "3129  [мчс, мчсроссии, в, столетие, со, дня, подписа...        108   \n",
              "\n",
              "      len_symbols                                             lemmas  \\\n",
              "5524          210  [спасатель, на, вертолёт, ми-8, мчс, россия, э...   \n",
              "8353          185  [жзл, самый, короткий, строчка, писателясама, ...   \n",
              "8335          544  [услуга, sms, уведомлениясегодний, не, обязате...   \n",
              "5215          177  [мчс, россия, оказать, помощь, италия, в, прео...   \n",
              "3129          865  [мчс, мчсроссия, в, столетие, с, день, подписа...   \n",
              "\n",
              "     predicted_source  \n",
              "5524          mchsgov  \n",
              "8353      russianpost  \n",
              "8335      russianpost  \n",
              "5215          mchsgov  \n",
              "3129          mchsgov  "
            ]
          },
          "metadata": {
            "tags": []
          },
          "execution_count": 177
        }
      ]
    },
    {
      "metadata": {
        "id": "UcalL_nUCDO0",
        "colab_type": "code",
        "colab": {
          "base_uri": "https://localhost:8080/",
          "height": 85
        },
        "outputId": "58c3a59b-30bf-4188-ae23-89abe607bab6"
      },
      "cell_type": "code",
      "source": [
        "evaluate(df['source'], df['predicted_source'])"
      ],
      "execution_count": 178,
      "outputs": [
        {
          "output_type": "stream",
          "text": [
            " precision: 0.8508329136541116 \n",
            " recall: 0.8506661072372897 \n",
            " accuracy: 0.8492972410203019 \n",
            " f1: 0.8470569218793917\n"
          ],
          "name": "stdout"
        }
      ]
    },
    {
      "metadata": {
        "id": "d_0p9rGcZWbx",
        "colab_type": "text"
      },
      "cell_type": "markdown",
      "source": [
        ""
      ]
    },
    {
      "metadata": {
        "colab_type": "text",
        "id": "22tJKQnaOjie"
      },
      "cell_type": "markdown",
      "source": [
        "## Задание 3 [4 балла]. Baseline\n",
        "Используйте стандартный ```sklearn.pipeline``` для классификации текстов: \n",
        "* векторизация \n",
        "* $tf-idf$ взвешивание \n",
        "* ваш любимый метод классификации.\n",
        "\n",
        "\n",
        "Оцените результаты классификации по стандартным мерам качества и проведите анализ ошибок. Для этого рекомендуем визуализировать матрицу ошибок (confusion matrix). "
      ]
    },
    {
      "metadata": {
        "id": "5fX6NL1X22lg",
        "colab_type": "code",
        "colab": {}
      },
      "cell_type": "code",
      "source": [
        "from sklearn.feature_extraction.text import *\n",
        "from sklearn.metrics import *\n",
        "from sklearn.pipeline import Pipeline\n",
        "from sklearn.feature_extraction.text import TfidfTransformer\n",
        "from sklearn.linear_model import LogisticRegression, SGDClassifier\n",
        "from sklearn.naive_bayes import MultinomialNB\n",
        "from sklearn.ensemble import RandomForestClassifier"
      ],
      "execution_count": 0,
      "outputs": []
    },
    {
      "metadata": {
        "id": "EQdSZcgb22lj",
        "colab_type": "code",
        "colab": {},
        "outputId": "9dc19ff9-82b4-4629-eb40-c2c7d77fae7a"
      },
      "cell_type": "code",
      "source": [
        "clf = Pipeline([\n",
        "    ('vect', CountVectorizer(ngram_range=(1,1))),\n",
        "    ('tfidf', TfidfTransformer()),\n",
        "    ('clf', SGDClassifier()),\n",
        "])\n",
        "\n",
        "%time\n",
        "clf.fit(X_train, y_train)"
      ],
      "execution_count": 0,
      "outputs": [
        {
          "output_type": "stream",
          "text": [
            "Wall time: 0 ns\n"
          ],
          "name": "stdout"
        },
        {
          "output_type": "stream",
          "text": [
            "C:\\Users\\User\\Anaconda3\\lib\\site-packages\\sklearn\\linear_model\\stochastic_gradient.py:128: FutureWarning: max_iter and tol parameters have been added in <class 'sklearn.linear_model.stochastic_gradient.SGDClassifier'> in 0.19. If both are left unset, they default to max_iter=5 and tol=None. If tol is not None, max_iter defaults to max_iter=1000. From 0.21, default max_iter will be 1000, and default tol will be 1e-3.\n",
            "  \"and default tol will be 1e-3.\" % type(self), FutureWarning)\n"
          ],
          "name": "stderr"
        },
        {
          "output_type": "execute_result",
          "data": {
            "text/plain": [
              "Pipeline(memory=None,\n",
              "     steps=[('vect', CountVectorizer(analyzer='word', binary=False, decode_error='strict',\n",
              "        dtype=<class 'numpy.int64'>, encoding='utf-8', input='content',\n",
              "        lowercase=True, max_df=1.0, max_features=None, min_df=1,\n",
              "        ngram_range=(1, 1), preprocessor=None, stop_words=None,\n",
              "        strip...='l2', power_t=0.5, random_state=None,\n",
              "       shuffle=True, tol=None, verbose=0, warm_start=False))])"
            ]
          },
          "metadata": {
            "tags": []
          },
          "execution_count": 49
        }
      ]
    },
    {
      "metadata": {
        "id": "TxYXgrHE22lm",
        "colab_type": "code",
        "colab": {},
        "outputId": "8e3e5f06-7601-4b71-c565-f8f07d414112"
      },
      "cell_type": "code",
      "source": [
        "predictions = clf.predict(X_test)\n",
        "print(classification_report(y_test, predictions))"
      ],
      "execution_count": 0,
      "outputs": [
        {
          "output_type": "stream",
          "text": [
            "             precision    recall  f1-score   support\n",
            "\n",
            "    mchsgov       0.99      0.96      0.97       583\n",
            "        mil       0.99      0.99      0.99       617\n",
            "  mospolice       0.96      0.99      0.98       580\n",
            "russianpost       0.96      0.95      0.96       526\n",
            "\n",
            "avg / total       0.98      0.98      0.98      2306\n",
            "\n"
          ],
          "name": "stdout"
        }
      ]
    },
    {
      "metadata": {
        "id": "FAPB9scZ22lp",
        "colab_type": "code",
        "colab": {},
        "outputId": "ee4398a2-b6fd-43d0-dfb9-f27bbc1999e8"
      },
      "cell_type": "code",
      "source": [
        "# Матрица ошибок\n",
        "import matplotlib.pyplot as plt\n",
        "import seaborn as sns\n",
        "\n",
        "labels = clf.classes_\n",
        "sns.heatmap(data=confusion_matrix(y_test, predictions), annot=True, fmt=\"d\", cbar=False, xticklabels=labels, yticklabels=labels)\n",
        "plt.title(\"Матрица ошибок\")\n",
        "plt.show()"
      ],
      "execution_count": 0,
      "outputs": [
        {
          "output_type": "display_data",
          "data": {
            "image/png": "[encoded data removed]",
            "text/plain": [
              "<Figure size 432x288 with 1 Axes>"
            ]
          },
          "metadata": {
            "tags": []
          }
        }
      ]
    },
    {
      "metadata": {
        "colab_type": "text",
        "id": "I4m1rDQ3PAqO"
      },
      "cell_type": "markdown",
      "source": [
        "## Задание 4 [2 балла]. Снижение размерности\n",
        "Добавьте в ваш ```sklearn.pipeline```  методы снижения размерности:  PCA / LSI / LSA / LDA / другое. Какие методы классификации разумно использовать после снижения размерности? Как изменились результаты классификации после добавления нового шага?"
      ]
    },
    {
      "metadata": {
        "id": "dAftFR6022lu",
        "colab_type": "code",
        "colab": {},
        "outputId": "4e965605-57ad-470b-e945-68d048ca63d2"
      },
      "cell_type": "code",
      "source": [
        "from sklearn.decomposition import TruncatedSVD\n",
        "\n",
        "clf = Pipeline([\n",
        "    ('vect', CountVectorizer(ngram_range=(1,1))),\n",
        "    ('tfidf', TfidfTransformer()),\n",
        "    ('reduce', TruncatedSVD(n_components=30)),\n",
        "    ('clf', SGDClassifier())\n",
        "])\n",
        "\n",
        "%time\n",
        "clf.fit(X_train, y_train)"
      ],
      "execution_count": 0,
      "outputs": [
        {
          "output_type": "stream",
          "text": [
            "Wall time: 0 ns\n"
          ],
          "name": "stdout"
        },
        {
          "output_type": "stream",
          "text": [
            "C:\\Users\\User\\Anaconda3\\lib\\site-packages\\sklearn\\linear_model\\stochastic_gradient.py:128: FutureWarning: max_iter and tol parameters have been added in <class 'sklearn.linear_model.stochastic_gradient.SGDClassifier'> in 0.19. If both are left unset, they default to max_iter=5 and tol=None. If tol is not None, max_iter defaults to max_iter=1000. From 0.21, default max_iter will be 1000, and default tol will be 1e-3.\n",
            "  \"and default tol will be 1e-3.\" % type(self), FutureWarning)\n"
          ],
          "name": "stderr"
        },
        {
          "output_type": "execute_result",
          "data": {
            "text/plain": [
              "Pipeline(memory=None,\n",
              "     steps=[('vect', CountVectorizer(analyzer='word', binary=False, decode_error='strict',\n",
              "        dtype=<class 'numpy.int64'>, encoding='utf-8', input='content',\n",
              "        lowercase=True, max_df=1.0, max_features=None, min_df=1,\n",
              "        ngram_range=(1, 1), preprocessor=None, stop_words=None,\n",
              "        strip...='l2', power_t=0.5, random_state=None,\n",
              "       shuffle=True, tol=None, verbose=0, warm_start=False))])"
            ]
          },
          "metadata": {
            "tags": []
          },
          "execution_count": 52
        }
      ]
    },
    {
      "metadata": {
        "id": "TL2IMKpt22lx",
        "colab_type": "code",
        "colab": {},
        "outputId": "74df7743-73ff-4192-dc7e-55fc73b060cb"
      },
      "cell_type": "code",
      "source": [
        "predictions = clf.predict(X_test)\n",
        "print(classification_report(y_test, predictions))"
      ],
      "execution_count": 0,
      "outputs": [
        {
          "output_type": "stream",
          "text": [
            "             precision    recall  f1-score   support\n",
            "\n",
            "    mchsgov       0.99      0.88      0.93       583\n",
            "        mil       0.96      0.98      0.97       617\n",
            "  mospolice       0.93      0.99      0.96       580\n",
            "russianpost       0.92      0.94      0.93       526\n",
            "\n",
            "avg / total       0.95      0.95      0.95      2306\n",
            "\n"
          ],
          "name": "stdout"
        }
      ]
    },
    {
      "metadata": {
        "colab_type": "text",
        "id": "7vVPaaVwPVwg"
      },
      "cell_type": "markdown",
      "source": [
        "## Задание 5 [2 балла]. Лемматизация\n",
        "Посмотрите, как влияет лемматизация на качество классификации. Как изменится качество классификации, если вы используете ```CountVectorizer``` на словах или $n$-граммах на лемматизированных текстах?"
      ]
    },
    {
      "metadata": {
        "id": "zcaZc33Y22l1",
        "colab_type": "code",
        "colab": {}
      },
      "cell_type": "code",
      "source": [
        "lemmatized_text = [' '.join(text) for text in df['lemmas']]\n",
        "X_train, X_test, y_train, y_test = train_test_split(lemmatized_text, df['source'], test_size=0.2, random_state=42)"
      ],
      "execution_count": 0,
      "outputs": []
    },
    {
      "metadata": {
        "id": "RZ-GiHfY22l3",
        "colab_type": "code",
        "colab": {},
        "outputId": "32c08dcd-3cac-40dd-f282-85c2301a1304"
      },
      "cell_type": "code",
      "source": [
        "clf = Pipeline([\n",
        "    ('vect', CountVectorizer(ngram_range=(1,1))),\n",
        "    ('tfidf', TfidfTransformer()),\n",
        "    ('clf', SGDClassifier()),\n",
        "])\n",
        "\n",
        "%time\n",
        "clf.fit(X_train, y_train)"
      ],
      "execution_count": 0,
      "outputs": [
        {
          "output_type": "stream",
          "text": [
            "Wall time: 0 ns\n"
          ],
          "name": "stdout"
        },
        {
          "output_type": "stream",
          "text": [
            "C:\\Users\\User\\Anaconda3\\lib\\site-packages\\sklearn\\linear_model\\stochastic_gradient.py:128: FutureWarning: max_iter and tol parameters have been added in <class 'sklearn.linear_model.stochastic_gradient.SGDClassifier'> in 0.19. If both are left unset, they default to max_iter=5 and tol=None. If tol is not None, max_iter defaults to max_iter=1000. From 0.21, default max_iter will be 1000, and default tol will be 1e-3.\n",
            "  \"and default tol will be 1e-3.\" % type(self), FutureWarning)\n"
          ],
          "name": "stderr"
        },
        {
          "output_type": "execute_result",
          "data": {
            "text/plain": [
              "Pipeline(memory=None,\n",
              "     steps=[('vect', CountVectorizer(analyzer='word', binary=False, decode_error='strict',\n",
              "        dtype=<class 'numpy.int64'>, encoding='utf-8', input='content',\n",
              "        lowercase=True, max_df=1.0, max_features=None, min_df=1,\n",
              "        ngram_range=(1, 1), preprocessor=None, stop_words=None,\n",
              "        strip...='l2', power_t=0.5, random_state=None,\n",
              "       shuffle=True, tol=None, verbose=0, warm_start=False))])"
            ]
          },
          "metadata": {
            "tags": []
          },
          "execution_count": 55
        }
      ]
    },
    {
      "metadata": {
        "id": "KNlqY0_d22l7",
        "colab_type": "code",
        "colab": {},
        "outputId": "7631d5ef-da51-4583-ca97-2e31b4578b0c"
      },
      "cell_type": "code",
      "source": [
        "predictions = clf.predict(X_test)\n",
        "print(classification_report(y_test, predictions))"
      ],
      "execution_count": 0,
      "outputs": [
        {
          "output_type": "stream",
          "text": [
            "             precision    recall  f1-score   support\n",
            "\n",
            "    mchsgov       0.98      0.96      0.97       583\n",
            "        mil       0.99      0.99      0.99       617\n",
            "  mospolice       0.96      0.99      0.98       580\n",
            "russianpost       0.96      0.95      0.95       526\n",
            "\n",
            "avg / total       0.97      0.97      0.97      2306\n",
            "\n"
          ],
          "name": "stdout"
        }
      ]
    },
    {
      "metadata": {
        "id": "ozJE9ze-22l_",
        "colab_type": "code",
        "colab": {},
        "outputId": "f3ee8105-dd22-4681-df64-f8cb3fafd8e2"
      },
      "cell_type": "code",
      "source": [
        "# Добавим энграммы\n",
        "clf = Pipeline([\n",
        "    ('vect', CountVectorizer(ngram_range=(1,4))),\n",
        "    ('tfidf', TfidfTransformer()),\n",
        "    ('clf', SGDClassifier()),\n",
        "])\n",
        "\n",
        "%time\n",
        "clf.fit(X_train, y_train)"
      ],
      "execution_count": 0,
      "outputs": [
        {
          "output_type": "stream",
          "text": [
            "Wall time: 0 ns\n"
          ],
          "name": "stdout"
        },
        {
          "output_type": "stream",
          "text": [
            "C:\\Users\\User\\Anaconda3\\lib\\site-packages\\sklearn\\linear_model\\stochastic_gradient.py:128: FutureWarning: max_iter and tol parameters have been added in <class 'sklearn.linear_model.stochastic_gradient.SGDClassifier'> in 0.19. If both are left unset, they default to max_iter=5 and tol=None. If tol is not None, max_iter defaults to max_iter=1000. From 0.21, default max_iter will be 1000, and default tol will be 1e-3.\n",
            "  \"and default tol will be 1e-3.\" % type(self), FutureWarning)\n"
          ],
          "name": "stderr"
        },
        {
          "output_type": "execute_result",
          "data": {
            "text/plain": [
              "Pipeline(memory=None,\n",
              "     steps=[('vect', CountVectorizer(analyzer='word', binary=False, decode_error='strict',\n",
              "        dtype=<class 'numpy.int64'>, encoding='utf-8', input='content',\n",
              "        lowercase=True, max_df=1.0, max_features=None, min_df=1,\n",
              "        ngram_range=(1, 4), preprocessor=None, stop_words=None,\n",
              "        strip...='l2', power_t=0.5, random_state=None,\n",
              "       shuffle=True, tol=None, verbose=0, warm_start=False))])"
            ]
          },
          "metadata": {
            "tags": []
          },
          "execution_count": 57
        }
      ]
    },
    {
      "metadata": {
        "id": "l20f5Vas22mB",
        "colab_type": "code",
        "colab": {},
        "outputId": "3e323edf-f770-49c9-db73-2f98ae9ec54b"
      },
      "cell_type": "code",
      "source": [
        "predictions = clf.predict(X_test)\n",
        "print(classification_report(y_test, predictions))"
      ],
      "execution_count": 0,
      "outputs": [
        {
          "output_type": "stream",
          "text": [
            "             precision    recall  f1-score   support\n",
            "\n",
            "    mchsgov       0.98      0.95      0.97       583\n",
            "        mil       0.98      0.99      0.98       617\n",
            "  mospolice       0.96      1.00      0.98       580\n",
            "russianpost       0.96      0.95      0.96       526\n",
            "\n",
            "avg / total       0.97      0.97      0.97      2306\n",
            "\n"
          ],
          "name": "stdout"
        }
      ]
    },
    {
      "metadata": {
        "colab_type": "text",
        "id": "hj7hWdtcP8L2"
      },
      "cell_type": "markdown",
      "source": [
        "## Задание 6 [4 балла]. Модель скрытых тем\n",
        "Постройте и визуализируйте модель скрытых тем (LSI или LDA) по данной коллекции текстов. Нужно ли здесь использовать разделение на тестовую и обучающую части? Как модель скрытых тем может помочь в решении задачи классификации?"
      ]
    },
    {
      "metadata": {
        "colab_type": "text",
        "id": "cdakRHahQp-l"
      },
      "cell_type": "markdown",
      "source": [
        "## Задание 7 [4 балла]. Continious bag of words\n",
        "Для baseline решения мы использовали обычное представление текста в виде мешка слов. Попробуйте использовать другие модели представления текста – например, в виде непрерывного мешка слов, то есть, в виде набора эмбеддингов. Для того, чтобы получить вектор текста попробуйте:\n",
        "* усреднить все эмбеддинги слов, входящих в этот текст\n",
        "* усреднить все эмбеддинги слов, входящих в этот текст с $tf-idf$ весами\n",
        "* использовать любую модель эмбеддинга документа.\n",
        "\n",
        "Используйте любую модель эмбеддингов по вашему вкусу. \n",
        "\n",
        "\n",
        "Оцените результаты классификации по стандартным мерам качества и проведите анализ ошибок. Для этого рекомендуем визуализировать матрицу ошибок (confusion matrix). "
      ]
    },
    {
      "metadata": {
        "id": "Grk-_VfJ22mI",
        "colab_type": "code",
        "colab": {}
      },
      "cell_type": "code",
      "source": [
        "import gensim\n",
        "import numpy as np"
      ],
      "execution_count": 0,
      "outputs": []
    },
    {
      "metadata": {
        "id": "DdFY28o422mJ",
        "colab_type": "code",
        "colab": {}
      },
      "cell_type": "code",
      "source": [
        "fast_text = gensim.models.FastText([text.split() for text in cleared_text], size=50, min_n=4, max_n=8)\n",
        "w2v = gensim.models.Word2Vec([text.split() for text in cleared_text], size=50, sg=1)"
      ],
      "execution_count": 0,
      "outputs": []
    },
    {
      "metadata": {
        "id": "LGzqLF9022mM",
        "colab_type": "code",
        "colab": {}
      },
      "cell_type": "code",
      "source": [
        "def get_embedding(text, model, dim):\n",
        "    text = text.split()\n",
        "    \n",
        "    # чтобы не доставать одно слово несколько раз\n",
        "    # сделаем счетчик, а потом векторы домножим на частоту\n",
        "    words = Counter(text)\n",
        "    total = len(text)\n",
        "    vectors = np.zeros((len(words), dim))\n",
        "    \n",
        "    for i,word in enumerate(words):\n",
        "        try:\n",
        "            v = model[word]\n",
        "            vectors[i] = v*(words[word]/total) # просто умножаем вектор на частоту\n",
        "        except (KeyError, ValueError):\n",
        "            continue\n",
        "    \n",
        "    if vectors.any():\n",
        "        vector = np.average(vectors, axis=0)\n",
        "    else:\n",
        "        vector = np.zeros((dim))\n",
        "    \n",
        "    return vector"
      ],
      "execution_count": 0,
      "outputs": []
    },
    {
      "metadata": {
        "id": "h8PcTJTZ22mO",
        "colab_type": "code",
        "colab": {},
        "outputId": "3a844460-63d8-4e8c-9672-34f0baadc410"
      },
      "cell_type": "code",
      "source": [
        "dim = 50\n",
        "X_text_w2v = np.zeros((len(cleared_text), dim))\n",
        "\n",
        "for i, text in enumerate(cleared_text):\n",
        "    X_text_w2v[i] = get_embedding(text, w2v, dim)"
      ],
      "execution_count": 0,
      "outputs": [
        {
          "output_type": "stream",
          "text": [
            "C:\\Users\\User\\Anaconda3\\lib\\site-packages\\ipykernel_launcher.py:12: DeprecationWarning: Call to deprecated `__getitem__` (Method will be removed in 4.0.0, use self.wv.__getitem__() instead).\n",
            "  if sys.path[0] == '':\n"
          ],
          "name": "stderr"
        }
      ]
    },
    {
      "metadata": {
        "id": "K6XEQ0AK22mR",
        "colab_type": "code",
        "colab": {},
        "outputId": "167f32ff-ddbe-46d4-d507-bd6cf3dc980b"
      },
      "cell_type": "code",
      "source": [
        "X_train, X_test, y_train, y_test = train_test_split(X_text_w2v, df['source'], test_size=0.2, random_state=42)\n",
        "\n",
        "clf = SGDClassifier()\n",
        "\n",
        "%time\n",
        "clf.fit(X_train, y_train)"
      ],
      "execution_count": 0,
      "outputs": [
        {
          "output_type": "stream",
          "text": [
            "Wall time: 0 ns\n"
          ],
          "name": "stdout"
        },
        {
          "output_type": "stream",
          "text": [
            "C:\\Users\\User\\Anaconda3\\lib\\site-packages\\sklearn\\linear_model\\stochastic_gradient.py:128: FutureWarning: max_iter and tol parameters have been added in <class 'sklearn.linear_model.stochastic_gradient.SGDClassifier'> in 0.19. If both are left unset, they default to max_iter=5 and tol=None. If tol is not None, max_iter defaults to max_iter=1000. From 0.21, default max_iter will be 1000, and default tol will be 1e-3.\n",
            "  \"and default tol will be 1e-3.\" % type(self), FutureWarning)\n"
          ],
          "name": "stderr"
        },
        {
          "output_type": "execute_result",
          "data": {
            "text/plain": [
              "SGDClassifier(alpha=0.0001, average=False, class_weight=None, epsilon=0.1,\n",
              "       eta0=0.0, fit_intercept=True, l1_ratio=0.15,\n",
              "       learning_rate='optimal', loss='hinge', max_iter=None, n_iter=None,\n",
              "       n_jobs=1, penalty='l2', power_t=0.5, random_state=None,\n",
              "       shuffle=True, tol=None, verbose=0, warm_start=False)"
            ]
          },
          "metadata": {
            "tags": []
          },
          "execution_count": 65
        }
      ]
    },
    {
      "metadata": {
        "id": "Co_-0a7a22mW",
        "colab_type": "code",
        "colab": {},
        "outputId": "437f4bc4-3b5c-420c-8df6-2db2a675b6e7"
      },
      "cell_type": "code",
      "source": [
        "predictions = clf.predict(X_test)\n",
        "print(classification_report(y_test, predictions))"
      ],
      "execution_count": 0,
      "outputs": [
        {
          "output_type": "stream",
          "text": [
            "             precision    recall  f1-score   support\n",
            "\n",
            "    mchsgov       0.87      0.89      0.88       583\n",
            "        mil       0.98      0.82      0.89       617\n",
            "  mospolice       0.94      0.81      0.87       580\n",
            "russianpost       0.68      0.89      0.77       526\n",
            "\n",
            "avg / total       0.87      0.85      0.86      2306\n",
            "\n"
          ],
          "name": "stdout"
        }
      ]
    },
    {
      "metadata": {
        "id": "T3Wq_UYf22ma",
        "colab_type": "code",
        "colab": {},
        "outputId": "d2c608d0-14b2-4ec6-f262-5ff9d9d8c6e8"
      },
      "cell_type": "code",
      "source": [
        "# Матрица ошибок\n",
        "import matplotlib.pyplot as plt\n",
        "import seaborn as sns\n",
        "\n",
        "labels = clf.classes_\n",
        "sns.heatmap(data=confusion_matrix(y_test, predictions), annot=True, fmt=\"d\", cbar=False, xticklabels=labels, yticklabels=labels)\n",
        "plt.title(\"Матрица ошибок\")\n",
        "plt.show()"
      ],
      "execution_count": 0,
      "outputs": [
        {
          "output_type": "display_data",
          "data": {
            "image/png": "[encoded data removed]",
            "text/plain": [
              "<Figure size 432x288 with 1 Axes>"
            ]
          },
          "metadata": {
            "tags": []
          }
        }
      ]
    },
    {
      "metadata": {
        "colab_type": "text",
        "id": "uyVQ5Gm7Qzcz"
      },
      "cell_type": "markdown",
      "source": [
        "## Задание 8 [2 балла]. fastText\n",
        "\n",
        "Используйте ```fastText``` в режиме классификации. Оцените результаты классификации по стандартным мерам качества и проведите анализ ошибок. Для этого рекомендуем визуализировать матрицу ошибок (confusion matrix). "
      ]
    },
    {
      "metadata": {
        "id": "gFvmxNQF22md",
        "colab_type": "code",
        "colab": {},
        "outputId": "7e9c6221-91d6-49a7-c35f-b7fa368e211b"
      },
      "cell_type": "code",
      "source": [
        "dim = 50\n",
        "X_text_fast_text = np.zeros((len(cleared_text), dim))\n",
        "\n",
        "for i, text in enumerate(cleared_text):\n",
        "    X_text_fast_text[i] = get_embedding(text, fast_text, dim)"
      ],
      "execution_count": 0,
      "outputs": [
        {
          "output_type": "stream",
          "text": [
            "C:\\Users\\User\\Anaconda3\\lib\\site-packages\\ipykernel_launcher.py:12: DeprecationWarning: Call to deprecated `__getitem__` (Method will be removed in 4.0.0, use self.wv.__getitem__() instead).\n",
            "  if sys.path[0] == '':\n"
          ],
          "name": "stderr"
        }
      ]
    },
    {
      "metadata": {
        "id": "LqEZHTer22mg",
        "colab_type": "code",
        "colab": {},
        "outputId": "498fec50-5c43-469f-edc0-804b6a0de494"
      },
      "cell_type": "code",
      "source": [
        "X_train, X_test, y_train, y_test = train_test_split(X_text_fast_text, df['source'], test_size=0.2, random_state=42)\n",
        "\n",
        "clf = SGDClassifier()\n",
        "\n",
        "%time\n",
        "clf.fit(X_train, y_train)"
      ],
      "execution_count": 0,
      "outputs": [
        {
          "output_type": "stream",
          "text": [
            "Wall time: 0 ns\n"
          ],
          "name": "stdout"
        },
        {
          "output_type": "stream",
          "text": [
            "C:\\Users\\User\\Anaconda3\\lib\\site-packages\\sklearn\\linear_model\\stochastic_gradient.py:128: FutureWarning: max_iter and tol parameters have been added in <class 'sklearn.linear_model.stochastic_gradient.SGDClassifier'> in 0.19. If both are left unset, they default to max_iter=5 and tol=None. If tol is not None, max_iter defaults to max_iter=1000. From 0.21, default max_iter will be 1000, and default tol will be 1e-3.\n",
            "  \"and default tol will be 1e-3.\" % type(self), FutureWarning)\n"
          ],
          "name": "stderr"
        },
        {
          "output_type": "execute_result",
          "data": {
            "text/plain": [
              "SGDClassifier(alpha=0.0001, average=False, class_weight=None, epsilon=0.1,\n",
              "       eta0=0.0, fit_intercept=True, l1_ratio=0.15,\n",
              "       learning_rate='optimal', loss='hinge', max_iter=None, n_iter=None,\n",
              "       n_jobs=1, penalty='l2', power_t=0.5, random_state=None,\n",
              "       shuffle=True, tol=None, verbose=0, warm_start=False)"
            ]
          },
          "metadata": {
            "tags": []
          },
          "execution_count": 69
        }
      ]
    },
    {
      "metadata": {
        "id": "s4MXmCpl22mj",
        "colab_type": "code",
        "colab": {},
        "outputId": "1885cfdc-a4ae-4b6a-9325-6f4cb1ec4bf4"
      },
      "cell_type": "code",
      "source": [
        "predictions = clf.predict(X_test)\n",
        "print(classification_report(y_test, predictions))"
      ],
      "execution_count": 0,
      "outputs": [
        {
          "output_type": "stream",
          "text": [
            "             precision    recall  f1-score   support\n",
            "\n",
            "    mchsgov       0.95      0.81      0.88       583\n",
            "        mil       0.96      0.73      0.83       617\n",
            "  mospolice       0.94      0.87      0.90       580\n",
            "russianpost       0.62      0.94      0.75       526\n",
            "\n",
            "avg / total       0.87      0.83      0.84      2306\n",
            "\n"
          ],
          "name": "stdout"
        }
      ]
    },
    {
      "metadata": {
        "id": "vhMY_G8T22ml",
        "colab_type": "code",
        "colab": {},
        "outputId": "506739de-3aa1-4cad-d7f1-a77aa35bcba1"
      },
      "cell_type": "code",
      "source": [
        "# Матрица ошибок\n",
        "import matplotlib.pyplot as plt\n",
        "import seaborn as sns\n",
        "\n",
        "labels = clf.classes_\n",
        "sns.heatmap(data=confusion_matrix(y_test, predictions), annot=True, fmt=\"d\", cbar=False, xticklabels=labels, yticklabels=labels)\n",
        "plt.title(\"Матрица ошибок\")\n",
        "plt.show()"
      ],
      "execution_count": 0,
      "outputs": [
        {
          "output_type": "display_data",
          "data": {
            "image/png": "[encoded data removed]",
            "text/plain": [
              "<Figure size 432x288 with 1 Axes>"
            ]
          },
          "metadata": {
            "tags": []
          }
        }
      ]
    },
    {
      "metadata": {
        "colab_type": "text",
        "id": "_8fKqCD6Q5tW"
      },
      "cell_type": "markdown",
      "source": [
        "## Конец\n",
        "Подведите итоги и проведите сравнение всех использованных методов. Какой из них показался вам лучше и почему?\n",
        "\n",
        "**NB!** Задание обязательное вне зависимости от того, сколько из предыдущих пунктов вы выполнили, и дополнительных баллов не дает. "
      ]
    },
    {
      "metadata": {
        "colab_type": "text",
        "id": "4FkOuR_NiXeT"
      },
      "cell_type": "markdown",
      "source": [
        "# Правила сдачи \n",
        "\n",
        "1. Домашняя работа должна быть выполнена в ipynb-тетрадке под названием `ML_HW1.ipynb`.\n",
        "2. Тетрадку можно загрузить либо на GitHub (и в таком случае лучше создать для домашек по курсу отдельный репозиторий), либо в Colab.\n",
        "3. Ссылку на домашку нужно оставить [вот в этом опросе](https://goo.gl/forms/JpWWwKEZRkfy8OS02). \n",
        "4. Задание выполняется в группах 1-3 человека.\n",
        "5. Все вычисления должны быть снабжены пояснениями!\n",
        "6. Дедлайн – 4 марта в 23.59.\n",
        "\n",
        "**NB!** Если вы даете ссылку на Colab, то обязательно делайте это через \"Share\", а не просто копируйте ее из адресной строки. "
      ]
    },
    {
      "metadata": {
        "id": "K3_tPu3k22mq",
        "colab_type": "code",
        "colab": {}
      },
      "cell_type": "code",
      "source": [
        ""
      ],
      "execution_count": 0,
      "outputs": []
    }
  ]
}